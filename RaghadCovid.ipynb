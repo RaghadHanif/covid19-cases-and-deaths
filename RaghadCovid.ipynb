{
 "cells": [
  {
   "cell_type": "markdown",
   "metadata": {},
   "source": [
    "[DIY Covid-19 Dashboard Kit](https://github.com/fsmeraldi/diy-covid19dash) (C) Fabrizio Smeraldi, 2020 ([f.smeraldi@qmul.ac.uk](mailto:f.smeraldi@qmul.ac.uk) - [web](http://www.eecs.qmul.ac.uk/~fabri/)). All rights reserved."
   ]
  },
  {
   "cell_type": "markdown",
   "metadata": {
    "tags": []
   },
   "source": [
    "# DIY Covid-19 Dashboard"
   ]
  },
  {
   "cell_type": "code",
   "execution_count": null,
   "metadata": {},
   "outputs": [],
   "source": [
    "from IPython.display import clear_output\n",
    "import ipywidgets as wdg\n",
    "import pandas as pd\n",
    "import numpy as np\n",
    "import matplotlib.pyplot as plt\n",
    "import json\n",
    "from uk_covid19 import Cov19API"
   ]
  },
  {
   "cell_type": "code",
   "execution_count": null,
   "metadata": {},
   "outputs": [],
   "source": [
    "%matplotlib inline\n",
    "# make figures larger\n",
    "plt.rcParams['figure.dpi'] = 100"
   ]
  },
  {
   "cell_type": "code",
   "execution_count": null,
   "metadata": {},
   "outputs": [],
   "source": [
    "# Load JSON files and store the raw data in some variable. Edit as appropriate\n",
    "with open(\"cases_and_deaths.json\", \"rt\") as INFILE:\n",
    "    jsondata=json.load(INFILE)"
   ]
  },
  {
   "cell_type": "code",
   "execution_count": null,
   "metadata": {},
   "outputs": [],
   "source": [
    "\n",
    "\n",
    "def wrangle_data(rawdata):\n",
    "    \"\"\" Parameters: rawdata - data from json file or API call. Returns a dataframe.\n",
    "    Edit to include the code that wrangles the data, creates the dataframe and fills it in. \"\"\"\n",
    "\n",
    "    listofdata=jsondata['data']\n",
    "    \n",
    "    dates=[dictionary['date'] for dictionary in listofdata ]\n",
    "    dates.sort()\n",
    "    \n",
    "    def parse_date(datestring):\n",
    "        \"\"\" Convert a date string into a pandas datetime object \"\"\"\n",
    "        return pd.to_datetime(datestring, format=\"%Y-%m-%d\")\n",
    "    \n",
    "    startdate=parse_date(dates[0])\n",
    "    enddate=parse_date(dates[-1])\n",
    "    print (startdate, ' to ', enddate)\n",
    "    \n",
    "    index=pd.date_range(startdate, enddate, freq='D')\n",
    "    casesanddeathes=pd.DataFrame(index=index, columns=['newCases', 'cumCases', 'newDeaths28Days', 'cumDeaths28Days'])\n",
    "    \n",
    "    for entry in listofdata: \n",
    "        date=parse_date(entry['date'])\n",
    "        for column in ['newCases', 'cumCases', 'newDeaths28Days', 'cumDeaths28Days']:\n",
    "            if pd.isna(casesanddeathes.loc[date, column]): \n",
    "                value= float(entry[column]) if entry[column]!=None else 0.0\n",
    "                casesanddeathes.loc[date, column]=value\n",
    "            \n",
    "    casesanddeathes.fillna(0.0, inplace=True)\n",
    "    \n",
    "    \n",
    "    return casesanddeathes\n",
    "\n",
    "# putting the wrangling code into a function allows you to call it again after refreshing the data through \n",
    "# the API. You should call the function directly on the JSON data when the dashboard starts, by including \n",
    "# the call in the cell as below:\n",
    "casesanddeathes=wrangle_data(jsondata) # df is the dataframe for plotting"
   ]
  },
  {
   "cell_type": "code",
   "execution_count": null,
   "metadata": {},
   "outputs": [],
   "source": [
    "filters = [\n",
    "    'areaType=nation',\n",
    "    'areaName=Wales']\n",
    "\n",
    "structure = {\n",
    "    \"date\": \"date\",\n",
    "   \"newCases\": \"newCasesByPublishDate\",\n",
    "    \"cumCases\": \"cumCasesByPublishDate\",\n",
    "    \"newDeaths28Days\": \"newDeaths28DaysByDeathDate\",\n",
    "    \"cumDeaths28Days\": \"cumDeaths28DaysByDeathDate\"}\n",
    "\n",
    "def access_api():\n",
    "    api = Cov19API(filters=filters, structure=structure)\n",
    "    cases_and_deaths=api.get_json()\n",
    "    return cases_and_deaths"
   ]
  },
  {
   "cell_type": "markdown",
   "metadata": {},
   "source": [
    "click the botton to refresh the data from Public Health England (PHE)."
   ]
  },
  {
   "cell_type": "code",
   "execution_count": null,
   "metadata": {},
   "outputs": [],
   "source": [
    "# our API access function. This will be called by the button when it is clicked\n",
    "def api_button_callback(button):\n",
    "    \n",
    "    \"\"\" Button callback - it must take the button as its parameter (unused in this case).\n",
    "    Accesses API, wrangles data, updates global variable df used for plotting. \"\"\"\n",
    "   \n",
    "    apidata=access_api()\n",
    "\n",
    "    global casesanddeathes\n",
    "    casesanddeathes=wrangle_data(apidata)\n",
    "   \n",
    "    #refresh_graph()\n",
    "    \n",
    "    apibutton.icon=\"check\"\n",
    "    apibutton.disabled=True\n",
    "# see the doc for the parameters    \n",
    "apibutton=wdg.Button(\n",
    "    description='Refresh data',\n",
    "    disabled=False,\n",
    "    button_style='', # 'success', 'info', 'warning', 'danger' or ''\n",
    "    tooltip='Click to download current Public Health England data',\n",
    "    icon='download' # (FontAwesome names without the `fa-` prefix)\n",
    ")\n",
    "\n",
    "# register the callback function with the button\n",
    "apibutton.on_click(api_button_callback)\n",
    "\n",
    "# this is an iPython function that generalises print for Jupyter Notebooks; we use it to \n",
    "# display the widgets\n",
    "display(apibutton)"
   ]
  },
  {
   "cell_type": "markdown",
   "metadata": {},
   "source": [
    "## Graphs and Analysis"
   ]
  },
  {
   "cell_type": "code",
   "execution_count": null,
   "metadata": {},
   "outputs": [],
   "source": [
    "casesanddeathes=pd.read_pickle(\"casesanddeathes.pkl\")\n",
    "series=wdg.SelectMultiple(\n",
    "    options=['newCases', 'cumCases', 'newDeaths28Days', 'cumDeaths28Days'],\n",
    "    value=['newCases', 'cumCases', 'newDeaths28Days', 'cumDeaths28Days'],\n",
    "    rows=4,\n",
    "    description='Stats:',\n",
    "    disabled=False)\n",
    "\n",
    "scale=wdg.RadioButtons(\n",
    "    options=['linear', 'log'],\n",
    "    description='Scale:',\n",
    "    disabled=False)\n",
    "\n",
    "controls=wdg.HBox([series, scale])\n",
    "\n",
    "def casesanddeaths_graph(gcols, gscale):\n",
    "    if gscale=='linear':\n",
    "        logscale=False\n",
    "    else:\n",
    "        logscale=True\n",
    "    ncols=len(gcols)\n",
    "    if ncols>0:\n",
    "        casesanddeathes[list(gcols)].plot(logy=logscale)\n",
    "        plt.show() \n",
    "    else:\n",
    "        print(\"Click to select data for graph\")\n",
    "        print(\"(CTRL-Click to select more than one category)\")\n",
    "\n",
    "graph=wdg.interactive_output(casesanddeaths_graph, {'gcols': series, 'gscale': scale})\n",
    "\n",
    "display(controls, graph)"
   ]
  },
  {
   "cell_type": "code",
   "execution_count": null,
   "metadata": {},
   "outputs": [],
   "source": []
  },
  {
   "cell_type": "code",
   "execution_count": null,
   "metadata": {},
   "outputs": [],
   "source": []
  }
 ],
 "metadata": {
  "kernelspec": {
   "display_name": "Python 3 (ipykernel)",
   "language": "python",
   "name": "python3"
  },
  "language_info": {
   "codemirror_mode": {
    "name": "ipython",
    "version": 3
   },
   "file_extension": ".py",
   "mimetype": "text/x-python",
   "name": "python",
   "nbconvert_exporter": "python",
   "pygments_lexer": "ipython3",
   "version": "3.9.6"
  }
 },
 "nbformat": 4,
 "nbformat_minor": 4
}
